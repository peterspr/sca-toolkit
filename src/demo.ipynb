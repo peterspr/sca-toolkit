{
 "cells": [
  {
   "cell_type": "code",
   "execution_count": 1,
   "metadata": {},
   "outputs": [],
   "source": [
    "from notscared.NotScared import NotScared\n",
    "from notscared.tasks.SNR import SNR, SNROptions"
   ]
  },
  {
   "cell_type": "code",
   "execution_count": 2,
   "metadata": {},
   "outputs": [],
   "source": [
    "filename = \"../data/1x1x100000_r1_singlerail5_sr_ise_NON_PROFILED.h5\""
   ]
  },
  {
   "cell_type": "code",
   "execution_count": 3,
   "metadata": {},
   "outputs": [],
   "source": [
    "ns = NotScared(\n",
    "    filename = filename, \n",
    "    task = SNR,\n",
    "    task_options = SNROptions(\n",
    "        byte_positions=[0, 1, 2]),\n",
    "    tile = (1,1)) # Dataset is a 1x1"
   ]
  },
  {
   "cell_type": "code",
   "execution_count": 4,
   "metadata": {},
   "outputs": [],
   "source": [
    "ns.run_process_no_pool()"
   ]
  },
  {
   "cell_type": "code",
   "execution_count": 5,
   "metadata": {},
   "outputs": [
    {
     "name": "stdout",
     "output_type": "stream",
     "text": [
      "[[1.10526038e-04 1.17027368e-04 1.04757761e-04 ... 9.05062916e-05\n",
      "  1.10145367e-04 9.64655119e-05]\n",
      " [1.15444549e-04 1.15839997e-04 1.31776324e-04 ... 1.12915796e-03\n",
      "  9.91268898e-04 1.01562659e-03]\n",
      " [1.15286639e-04 1.20357916e-04 1.13193266e-04 ... 9.72532216e-05\n",
      "  9.73473361e-05 1.18430093e-04]]\n"
     ]
    }
   ],
   "source": [
    "print(ns.results[0][0])"
   ]
  },
  {
   "cell_type": "code",
   "execution_count": 6,
   "metadata": {},
   "outputs": [
    {
     "data": {
      "image/png": "[encoded data removed]",
      "text/plain": [
       "<Figure size 200x200 with 1 Axes>"
      ]
     },
     "metadata": {},
     "output_type": "display_data"
    }
   ],
   "source": [
    "ns.tasks[0][0].plot()"
   ]
  },
  {
   "cell_type": "code",
   "execution_count": 7,
   "metadata": {},
   "outputs": [],
   "source": [
    "from notscared.tasks.CPA import CPA, CPAOptions\n",
    "from notscared.models.HammingWeight import HammingWeight\n",
    "import numpy as np"
   ]
  },
  {
   "cell_type": "code",
   "execution_count": 8,
   "metadata": {},
   "outputs": [],
   "source": [
    "ns = NotScared(\n",
    "    filename = filename, \n",
    "    task = CPA,\n",
    "    task_options = CPAOptions(\n",
    "        byte_range=(0, 1),\n",
    "        leakage_model = HammingWeight(),\n",
    "        precision=np.float32),\n",
    "    tile = (1,1)) # Dataset is a 1x1"
   ]
  },
  {
   "cell_type": "code",
   "execution_count": 9,
   "metadata": {},
   "outputs": [
    {
     "name": "stdout",
     "output_type": "stream",
     "text": [
      "traces_processed: 25000\r"
     ]
    }
   ],
   "source": [
    "ns.run_process_no_pool()"
   ]
  },
  {
   "cell_type": "code",
   "execution_count": 10,
   "metadata": {},
   "outputs": [
    {
     "data": {
      "text/plain": [
       "[[(array([126,  -1,  -1,  -1,  -1,  -1,  -1,  -1,  -1,  -1,  -1,  -1,  -1,\n",
       "           -1,  -1,  -1], dtype=int16),\n",
       "   array([0.6828037, 0.       , 0.       , 0.       , 0.       , 0.       ,\n",
       "          0.       , 0.       , 0.       , 0.       , 0.       , 0.       ,\n",
       "          0.       , 0.       , 0.       , 0.       ], dtype=float32))]]"
      ]
     },
     "execution_count": 10,
     "metadata": {},
     "output_type": "execute_result"
    }
   ],
   "source": [
    "ns.results"
   ]
  },
  {
   "cell_type": "code",
   "execution_count": 11,
   "metadata": {},
   "outputs": [
    {
     "name": "stdout",
     "output_type": "stream",
     "text": [
      "KEY CANDIDATES:\n",
      " [126  -1  -1  -1  -1  -1  -1  -1  -1  -1  -1  -1  -1  -1  -1  -1]\n",
      "CORRELATION:\n",
      " [0.7 0.  0.  0.  0.  0.  0.  0.  0.  0.  0.  0.  0.  0.  0.  0. ]\n"
     ]
    }
   ],
   "source": [
    "np.set_printoptions(precision=1)\n",
    "key_candidates = ns.results[0][0] # Access the results for tile (0,0)\n",
    "print(\"KEY CANDIDATES:\\n\", key_candidates[0])\n",
    "print(\"CORRELATION:\\n\", key_candidates[1])"
   ]
  }
 ],
 "metadata": {
  "kernelspec": {
   "display_name": "Python 3",
   "language": "python",
   "name": "python3"
  },
  "language_info": {
   "codemirror_mode": {
    "name": "ipython",
    "version": 3
   },
   "file_extension": ".py",
   "mimetype": "text/x-python",
   "name": "python",
   "nbconvert_exporter": "python",
   "pygments_lexer": "ipython3",
   "version": "3.10.10"
  },
  "orig_nbformat": 4
 },
 "nbformat": 4,
 "nbformat_minor": 2
}
